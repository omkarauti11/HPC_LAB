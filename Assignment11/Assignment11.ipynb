{
  "nbformat": 4,
  "nbformat_minor": 0,
  "metadata": {
    "colab": {
      "provenance": [],
      "gpuType": "T4"
    },
    "kernelspec": {
      "name": "python3",
      "display_name": "Python 3"
    },
    "language_info": {
      "name": "python"
    },
    "accelerator": "GPU"
  },
  "cells": [
    {
      "cell_type": "code",
      "source": [
        "!nvcc --version\n"
      ],
      "metadata": {
        "colab": {
          "base_uri": "https://localhost:8080/"
        },
        "id": "7zn9_MG0NQSX",
        "outputId": "3d8e9cdc-bc0a-4221-c465-4723b37bf700"
      },
      "execution_count": 1,
      "outputs": [
        {
          "output_type": "stream",
          "name": "stdout",
          "text": [
            "nvcc: NVIDIA (R) Cuda compiler driver\n",
            "Copyright (c) 2005-2023 NVIDIA Corporation\n",
            "Built on Tue_Aug_15_22:02:13_PDT_2023\n",
            "Cuda compilation tools, release 12.2, V12.2.140\n",
            "Build cuda_12.2.r12.2/compiler.33191640_0\n"
          ]
        }
      ]
    },
    {
      "cell_type": "markdown",
      "source": [
        "Program 1:Execute the following program and check the properties of your GPGPU."
      ],
      "metadata": {
        "id": "6Tt2VHR-POif"
      }
    },
    {
      "cell_type": "code",
      "source": [
        "# Step 1: Write the CUDA code\n",
        "%%writefile cuda_device_info.cu\n",
        "#include <stdio.h>\n",
        "#include <cuda_runtime.h>\n",
        "\n",
        "int main()\n",
        "{\n",
        "    int deviceCount;\n",
        "    cudaGetDeviceCount(&deviceCount);\n",
        "    printf(\"Checking device count...\\n\"); // Debug statement\n",
        "    if (deviceCount == 0)\n",
        "    {\n",
        "        printf(\"There is no device supporting CUDA\\n\");\n",
        "        return 0; // Exit the program\n",
        "    }\n",
        "    printf(\"Device Count: %d\\n\", deviceCount); // Debug statement\n",
        "    int dev;\n",
        "    for (dev = 0; dev < deviceCount; ++dev)\n",
        "    {\n",
        "        cudaDeviceProp deviceProp;\n",
        "        cudaGetDeviceProperties(&deviceProp, dev);\n",
        "        if (dev == 0)\n",
        "        {\n",
        "            if (deviceProp.major < 1)\n",
        "            {\n",
        "                printf(\"There is no device supporting CUDA.\\n\");\n",
        "            }\n",
        "            else if (deviceCount == 1)\n",
        "            {\n",
        "                printf(\"There is 1 device supporting CUDA\\n\");\n",
        "            }\n",
        "            else\n",
        "            {\n",
        "                printf(\"There are %d devices supporting CUDA\\n\", deviceCount);\n",
        "            }\n",
        "        }\n",
        "        printf(\"  Device %d: \\\"%s\\\"\\n\", dev, deviceProp.name);\n",
        "        printf(\"  Major revision number:                         %d\\n\", deviceProp.major);\n",
        "        printf(\"  Minor revision number:                         %d\\n\", deviceProp.minor);\n",
        "        printf(\"  Total amount of global memory:                 %ld bytes\\n\", deviceProp.totalGlobalMem);\n",
        "        printf(\"  Total amount of constant memory:               %ld bytes\\n\", deviceProp.totalConstMem);\n",
        "        printf(\"  Total amount of shared memory per block:       %ld bytes\\n\", deviceProp.sharedMemPerBlock);\n",
        "        printf(\"  Total number of registers available per block: %d\\n\", deviceProp.regsPerBlock);\n",
        "        printf(\"  Warp size:                                     %d\\n\", deviceProp.warpSize);\n",
        "        printf(\"  Multiprocessor count:                          %d\\n\", deviceProp.multiProcessorCount);\n",
        "        printf(\"  Maximum number of threads per block:           %d\\n\", deviceProp.maxThreadsPerBlock);\n",
        "        printf(\"  Maximum sizes of each dimension of a block:    %d x %d x %d\\n\", deviceProp.maxThreadsDim[0], deviceProp.maxThreadsDim[1], deviceProp.maxThreadsDim[2]);\n",
        "        printf(\"  Maximum sizes of each dimension of a grid:     %d x %d x %d\\n\", deviceProp.maxGridSize[0], deviceProp.maxGridSize[1], deviceProp.maxGridSize[2]);\n",
        "        printf(\"  Maximum memory pitch:                          %ld bytes\\n\", deviceProp.memPitch);\n",
        "        printf(\"  Texture alignment:                             %ld bytes\\n\", deviceProp.textureAlignment);\n",
        "        printf(\"  Clock rate:                                    %d kilohertz\\n\", deviceProp.clockRate);\n",
        "    }\n",
        "    return 0;\n",
        "}\n"
      ],
      "metadata": {
        "colab": {
          "base_uri": "https://localhost:8080/"
        },
        "id": "OdOZgq0oMsgF",
        "outputId": "5dc0217c-d16d-4d6a-be9a-da1d3b440b0c"
      },
      "execution_count": null,
      "outputs": [
        {
          "output_type": "stream",
          "name": "stdout",
          "text": [
            "Writing cuda_device_info.cu\n"
          ]
        }
      ]
    },
    {
      "cell_type": "code",
      "source": [
        "# Step 2: Compile the code\n",
        "!nvcc cuda_device_info.cu -o cuda_device_info"
      ],
      "metadata": {
        "id": "P75qUgolNhoQ"
      },
      "execution_count": null,
      "outputs": []
    },
    {
      "cell_type": "code",
      "source": [
        "# Step 3: Run the executable\n",
        "!./cuda_device_info"
      ],
      "metadata": {
        "colab": {
          "base_uri": "https://localhost:8080/"
        },
        "id": "37_wUU5kNlcT",
        "outputId": "6d6bc065-fffb-4d31-8728-badbb092f613"
      },
      "execution_count": null,
      "outputs": [
        {
          "output_type": "stream",
          "name": "stdout",
          "text": [
            "Checking device count...\n",
            "Device Count: 1\n",
            "There is 1 device supporting CUDA\n",
            "  Device 0: \"Tesla T4\"\n",
            "  Major revision number:                         7\n",
            "  Minor revision number:                         5\n",
            "  Total amount of global memory:                 15835660288 bytes\n",
            "  Total amount of constant memory:               65536 bytes\n",
            "  Total amount of shared memory per block:       49152 bytes\n",
            "  Total number of registers available per block: 65536\n",
            "  Warp size:                                     32\n",
            "  Multiprocessor count:                          40\n",
            "  Maximum number of threads per block:           1024\n",
            "  Maximum sizes of each dimension of a block:    1024 x 1024 x 64\n",
            "  Maximum sizes of each dimension of a grid:     2147483647 x 65535 x 65535\n",
            "  Maximum memory pitch:                          2147483647 bytes\n",
            "  Texture alignment:                             512 bytes\n",
            "  Clock rate:                                    1590000 kilohertz\n"
          ]
        }
      ]
    },
    {
      "cell_type": "markdown",
      "source": [
        "Program 2: Write a program to where each thread prints its thread ID along with hello world. Lauch the kernel with one block and multiple threads."
      ],
      "metadata": {
        "id": "Cq57IwmrPT--"
      }
    },
    {
      "cell_type": "code",
      "source": [
        "%%writefile cuda_device_info.cu\n",
        "#include <stdio.h>\n",
        "#include <cuda_runtime.h>\n",
        "\n",
        "__global__ void helloWorldKernel() {\n",
        "    // Get the block ID and thread ID\n",
        "    int blockId = blockIdx.x;\n",
        "    int threadId = threadIdx.x;\n",
        "    printf(\"Hello World from block %d, thread %d\\n\", blockId, threadId);\n",
        "}\n",
        "\n",
        "int main() {\n",
        "    // Launch the kernel with 5 blocks and 10 threads per block\n",
        "    helloWorldKernel<<<5, 10>>>(); // 5 blocks, 10 threads per block\n",
        "    cudaDeviceSynchronize(); // Wait for the kernel to finish\n",
        "    return 0;\n",
        "}\n"
      ],
      "metadata": {
        "colab": {
          "base_uri": "https://localhost:8080/"
        },
        "id": "86ePgyK2OMPh",
        "outputId": "a699d4ed-569f-4608-ec0d-93008062e602"
      },
      "execution_count": null,
      "outputs": [
        {
          "output_type": "stream",
          "name": "stdout",
          "text": [
            "Overwriting cuda_device_info.cu\n"
          ]
        }
      ]
    },
    {
      "cell_type": "code",
      "source": [
        "!nvcc cuda_device_info.cu -o cuda_device_info\n"
      ],
      "metadata": {
        "id": "ejVzmaZlP7Kn"
      },
      "execution_count": null,
      "outputs": []
    },
    {
      "cell_type": "code",
      "source": [
        "# Step 3: Run the executable\n",
        "!./cuda_device_info"
      ],
      "metadata": {
        "colab": {
          "base_uri": "https://localhost:8080/"
        },
        "id": "rJZBST8ZP7UN",
        "outputId": "0b063baf-8ab9-46e8-914a-9623189eac08"
      },
      "execution_count": null,
      "outputs": [
        {
          "output_type": "stream",
          "name": "stdout",
          "text": [
            "Hello World from block 4, thread 0\n",
            "Hello World from block 4, thread 1\n",
            "Hello World from block 4, thread 2\n",
            "Hello World from block 4, thread 3\n",
            "Hello World from block 4, thread 4\n",
            "Hello World from block 4, thread 5\n",
            "Hello World from block 4, thread 6\n",
            "Hello World from block 4, thread 7\n",
            "Hello World from block 4, thread 8\n",
            "Hello World from block 4, thread 9\n",
            "Hello World from block 1, thread 0\n",
            "Hello World from block 1, thread 1\n",
            "Hello World from block 1, thread 2\n",
            "Hello World from block 1, thread 3\n",
            "Hello World from block 1, thread 4\n",
            "Hello World from block 1, thread 5\n",
            "Hello World from block 1, thread 6\n",
            "Hello World from block 1, thread 7\n",
            "Hello World from block 1, thread 8\n",
            "Hello World from block 1, thread 9\n",
            "Hello World from block 3, thread 0\n",
            "Hello World from block 3, thread 1\n",
            "Hello World from block 3, thread 2\n",
            "Hello World from block 3, thread 3\n",
            "Hello World from block 3, thread 4\n",
            "Hello World from block 3, thread 5\n",
            "Hello World from block 3, thread 6\n",
            "Hello World from block 3, thread 7\n",
            "Hello World from block 3, thread 8\n",
            "Hello World from block 3, thread 9\n",
            "Hello World from block 2, thread 0\n",
            "Hello World from block 2, thread 1\n",
            "Hello World from block 2, thread 2\n",
            "Hello World from block 2, thread 3\n",
            "Hello World from block 2, thread 4\n",
            "Hello World from block 2, thread 5\n",
            "Hello World from block 2, thread 6\n",
            "Hello World from block 2, thread 7\n",
            "Hello World from block 2, thread 8\n",
            "Hello World from block 2, thread 9\n",
            "Hello World from block 0, thread 0\n",
            "Hello World from block 0, thread 1\n",
            "Hello World from block 0, thread 2\n",
            "Hello World from block 0, thread 3\n",
            "Hello World from block 0, thread 4\n",
            "Hello World from block 0, thread 5\n",
            "Hello World from block 0, thread 6\n",
            "Hello World from block 0, thread 7\n",
            "Hello World from block 0, thread 8\n",
            "Hello World from block 0, thread 9\n"
          ]
        }
      ]
    },
    {
      "cell_type": "markdown",
      "source": [
        "Program 3:Write a program to where each thread prints its thread ID along with hello world. Lauch the kernel with multiple blocks and multiple threads."
      ],
      "metadata": {
        "id": "Zv9ivV5fQK26"
      }
    },
    {
      "cell_type": "code",
      "source": [
        "%%writefile cuda_device_info.cu\n",
        "#include <stdio.h>\n",
        "#include <cuda_runtime.h>\n",
        "\n",
        "__global__ void helloWorldKernel() {\n",
        "    // Get the block ID and thread ID within the block\n",
        "    int blockId = blockIdx.x;\n",
        "    int threadIdInBlock = threadIdx.x;\n",
        "\n",
        "    // Get the global thread ID across all blocks\n",
        "    int globalThreadId = blockId * blockDim.x + threadIdInBlock;\n",
        "\n",
        "    printf(\"Hello World from block %d, thread %d (global thread ID: %d)\\n\", blockId, threadIdInBlock, globalThreadId);\n",
        "}\n",
        "\n",
        "int main() {\n",
        "    int numBlocks = 2;          // Number of blocks\n",
        "    int threadsPerBlock = 5;    // Number of threads per block\n",
        "\n",
        "    // Launch the kernel with multiple blocks and multiple threads\n",
        "    helloWorldKernel<<<numBlocks, threadsPerBlock>>>();\n",
        "\n",
        "    // Synchronize the device\n",
        "    cudaDeviceSynchronize(); // Wait for the kernel to finish\n",
        "\n",
        "    return 0;\n",
        "}\n"
      ],
      "metadata": {
        "colab": {
          "base_uri": "https://localhost:8080/"
        },
        "id": "u0Hog4sXPyZN",
        "outputId": "1ffd87e4-7f47-49af-8811-2e1f56efa1da"
      },
      "execution_count": null,
      "outputs": [
        {
          "output_type": "stream",
          "name": "stdout",
          "text": [
            "Overwriting cuda_device_info.cu\n"
          ]
        }
      ]
    },
    {
      "cell_type": "code",
      "source": [
        "# Step 2: Compile the code\n",
        "!nvcc cuda_device_info.cu -o cuda_device_info"
      ],
      "metadata": {
        "id": "vqmM0WxIQBVi"
      },
      "execution_count": null,
      "outputs": []
    },
    {
      "cell_type": "code",
      "source": [
        "# Step 3: Run the executable\n",
        "!./cuda_device_info"
      ],
      "metadata": {
        "colab": {
          "base_uri": "https://localhost:8080/"
        },
        "id": "gRaxrL05QBY7",
        "outputId": "35716b50-3dda-4759-8e2f-43957fbe0330"
      },
      "execution_count": null,
      "outputs": [
        {
          "output_type": "stream",
          "name": "stdout",
          "text": [
            "Hello World from block 1, thread 0 (global thread ID: 5)\n",
            "Hello World from block 1, thread 1 (global thread ID: 6)\n",
            "Hello World from block 1, thread 2 (global thread ID: 7)\n",
            "Hello World from block 1, thread 3 (global thread ID: 8)\n",
            "Hello World from block 1, thread 4 (global thread ID: 9)\n",
            "Hello World from block 0, thread 0 (global thread ID: 0)\n",
            "Hello World from block 0, thread 1 (global thread ID: 1)\n",
            "Hello World from block 0, thread 2 (global thread ID: 2)\n",
            "Hello World from block 0, thread 3 (global thread ID: 3)\n",
            "Hello World from block 0, thread 4 (global thread ID: 4)\n"
          ]
        }
      ]
    },
    {
      "cell_type": "markdown",
      "source": [
        "Program 4: Write a program to where each thread prints its thread ID along with hello world. Lauch the kernel with 2D blocks and 2D threads."
      ],
      "metadata": {
        "id": "5TXN2HbjQIj9"
      }
    },
    {
      "cell_type": "code",
      "source": [
        "%%writefile cuda_device_info.cu\n",
        "#include <stdio.h>\n",
        "#include <cuda_runtime.h>\n",
        "\n",
        "__global__ void helloWorldKernel() {\n",
        "    // Get the 2D thread ID within the block\n",
        "    int threadIdX = threadIdx.x;\n",
        "    int threadIdY = threadIdx.y;\n",
        "\n",
        "    // Get the 2D block ID\n",
        "    int blockIdX = blockIdx.x;\n",
        "    int blockIdY = blockIdx.y;\n",
        "\n",
        "    // Get the global thread ID in 2D grid\n",
        "    int globalThreadIdX = blockIdX * blockDim.x + threadIdX;\n",
        "    int globalThreadIdY = blockIdY * blockDim.y + threadIdY;\n",
        "\n",
        "    printf(\"Hello World from block (%d, %d), thread (%d, %d) (global thread ID: (%d, %d))\\n\",\n",
        "            blockIdX, blockIdY, threadIdX, threadIdY, globalThreadIdX, globalThreadIdY);\n",
        "}\n",
        "\n",
        "int main() {\n",
        "    dim3 threadsPerBlock(2, 2); // Size of the block (2x2 threads)\n",
        "    dim3 numBlocks(2, 2);       // Number of blocks (2x2 blocks)\n",
        "\n",
        "    // Launch the kernel with 2D blocks and 2D threads\n",
        "    helloWorldKernel<<<numBlocks, threadsPerBlock>>>();\n",
        "    cudaDeviceSynchronize(); // Wait for the kernel to finish\n",
        "\n",
        "    return 0;\n",
        "}\n"
      ],
      "metadata": {
        "colab": {
          "base_uri": "https://localhost:8080/"
        },
        "id": "BmcoEbW1P0Hj",
        "outputId": "ba096327-7f4b-49f3-b085-94a0753a0ea7"
      },
      "execution_count": 3,
      "outputs": [
        {
          "output_type": "stream",
          "name": "stdout",
          "text": [
            "Writing cuda_device_info.cu\n"
          ]
        }
      ]
    },
    {
      "cell_type": "code",
      "source": [],
      "metadata": {
        "id": "n8zxY6i7hFXa"
      },
      "execution_count": null,
      "outputs": []
    },
    {
      "cell_type": "code",
      "source": [
        "# Step 2: Compile the code\n",
        "!nvcc cuda_device_info.cu -o cuda_device_info"
      ],
      "metadata": {
        "id": "lmhEDzKPQC4P"
      },
      "execution_count": 4,
      "outputs": []
    },
    {
      "cell_type": "code",
      "source": [
        "# Step 3: Run the executable\n",
        "!./cuda_device_info"
      ],
      "metadata": {
        "colab": {
          "base_uri": "https://localhost:8080/"
        },
        "id": "8ScDlL7JQC7y",
        "outputId": "1a3b8124-8c23-4c60-e6e5-30f721f17d74"
      },
      "execution_count": 5,
      "outputs": [
        {
          "output_type": "stream",
          "name": "stdout",
          "text": [
            "Hello World from block (0, 1), thread (0, 0) (global thread ID: (0, 2))\n",
            "Hello World from block (0, 1), thread (1, 0) (global thread ID: (1, 2))\n",
            "Hello World from block (0, 1), thread (0, 1) (global thread ID: (0, 3))\n",
            "Hello World from block (0, 1), thread (1, 1) (global thread ID: (1, 3))\n",
            "Hello World from block (0, 0), thread (0, 0) (global thread ID: (0, 0))\n",
            "Hello World from block (0, 0), thread (1, 0) (global thread ID: (1, 0))\n",
            "Hello World from block (0, 0), thread (0, 1) (global thread ID: (0, 1))\n",
            "Hello World from block (0, 0), thread (1, 1) (global thread ID: (1, 1))\n",
            "Hello World from block (1, 1), thread (0, 0) (global thread ID: (2, 2))\n",
            "Hello World from block (1, 1), thread (1, 0) (global thread ID: (3, 2))\n",
            "Hello World from block (1, 1), thread (0, 1) (global thread ID: (2, 3))\n",
            "Hello World from block (1, 1), thread (1, 1) (global thread ID: (3, 3))\n",
            "Hello World from block (1, 0), thread (0, 0) (global thread ID: (2, 0))\n",
            "Hello World from block (1, 0), thread (1, 0) (global thread ID: (3, 0))\n",
            "Hello World from block (1, 0), thread (0, 1) (global thread ID: (2, 1))\n",
            "Hello World from block (1, 0), thread (1, 1) (global thread ID: (3, 1))\n"
          ]
        }
      ]
    },
    {
      "cell_type": "code",
      "source": [
        "%%writefile cuda_device_info.cu\n",
        "#include <stdio.h>\n",
        "#include <cuda_runtime.h>\n",
        "\n",
        "__global__ void helloWorldKernel() {\n",
        "    // Get the 2D thread ID within the block\n",
        "    int threadIdX = threadIdx.x;\n",
        "    int threadIdY = threadIdx.y;\n",
        "\n",
        "    // Get the 2D block ID\n",
        "    int blockIdX = blockIdx.x;\n",
        "    int blockIdY = blockIdx.y;\n",
        "\n",
        "    // Get the global thread ID in 2D grid\n",
        "    int globalThreadIdX = blockIdX * blockDim.x + threadIdX;\n",
        "    int globalThreadIdY = blockIdY * blockDim.y + threadIdY;\n",
        "\n",
        "    // Calculate the 1D global ID\n",
        "    int globalThreadId1D = (blockIdY * gridDim.x + blockIdX) * (blockDim.x * blockDim.y) + (threadIdY * blockDim.x) + threadIdX;\n",
        "\n",
        "    printf(\"Hello World from block (%d, %d), thread (%d, %d) (global thread ID: (%d, %d), 1D global ID: %d)\\n\",\n",
        "            blockIdX, blockIdY, threadIdX, threadIdY, globalThreadIdX, globalThreadIdY, globalThreadId1D);\n",
        "}\n",
        "\n",
        "int main() {\n",
        "    dim3 threadsPerBlock(2, 2); // Size of the block (2x2 threads)\n",
        "    dim3 numBlocks(2, 2);       // Number of blocks (2x2 blocks)\n",
        "\n",
        "    // Launch the kernel with 2D blocks and 2D threads\n",
        "    helloWorldKernel<<<numBlocks, threadsPerBlock>>>();\n",
        "    cudaDeviceSynchronize(); // Wait for the kernel to finish\n",
        "\n",
        "    return 0;\n",
        "}\n"
      ],
      "metadata": {
        "id": "e2_-E20rhHLU",
        "outputId": "707ebcc6-316d-49e6-e90b-be604e2c0ad1",
        "colab": {
          "base_uri": "https://localhost:8080/"
        }
      },
      "execution_count": 6,
      "outputs": [
        {
          "output_type": "stream",
          "name": "stdout",
          "text": [
            "Overwriting cuda_device_info.cu\n"
          ]
        }
      ]
    },
    {
      "cell_type": "code",
      "source": [
        "# Step 2: Compile the code\n",
        "!nvcc cuda_device_info.cu -o cuda_device_info"
      ],
      "metadata": {
        "id": "9IOH4lV6ijde"
      },
      "execution_count": 7,
      "outputs": []
    },
    {
      "cell_type": "code",
      "source": [
        "# Step 3: Run the executable\n",
        "!./cuda_device_info"
      ],
      "metadata": {
        "colab": {
          "base_uri": "https://localhost:8080/"
        },
        "id": "OQejvhiwikvg",
        "outputId": "c470c2e4-52a2-4ced-907f-a22f2b1d35df"
      },
      "execution_count": 8,
      "outputs": [
        {
          "output_type": "stream",
          "name": "stdout",
          "text": [
            "Hello World from block (0, 1), thread (0, 0) (global thread ID: (0, 2), 1D global ID: 8)\n",
            "Hello World from block (0, 1), thread (1, 0) (global thread ID: (1, 2), 1D global ID: 9)\n",
            "Hello World from block (0, 1), thread (0, 1) (global thread ID: (0, 3), 1D global ID: 10)\n",
            "Hello World from block (0, 1), thread (1, 1) (global thread ID: (1, 3), 1D global ID: 11)\n",
            "Hello World from block (0, 0), thread (0, 0) (global thread ID: (0, 0), 1D global ID: 0)\n",
            "Hello World from block (0, 0), thread (1, 0) (global thread ID: (1, 0), 1D global ID: 1)\n",
            "Hello World from block (0, 0), thread (0, 1) (global thread ID: (0, 1), 1D global ID: 2)\n",
            "Hello World from block (0, 0), thread (1, 1) (global thread ID: (1, 1), 1D global ID: 3)\n",
            "Hello World from block (1, 1), thread (0, 0) (global thread ID: (2, 2), 1D global ID: 12)\n",
            "Hello World from block (1, 1), thread (1, 0) (global thread ID: (3, 2), 1D global ID: 13)\n",
            "Hello World from block (1, 1), thread (0, 1) (global thread ID: (2, 3), 1D global ID: 14)\n",
            "Hello World from block (1, 1), thread (1, 1) (global thread ID: (3, 3), 1D global ID: 15)\n",
            "Hello World from block (1, 0), thread (0, 0) (global thread ID: (2, 0), 1D global ID: 4)\n",
            "Hello World from block (1, 0), thread (1, 0) (global thread ID: (3, 0), 1D global ID: 5)\n",
            "Hello World from block (1, 0), thread (0, 1) (global thread ID: (2, 1), 1D global ID: 6)\n",
            "Hello World from block (1, 0), thread (1, 1) (global thread ID: (3, 1), 1D global ID: 7)\n"
          ]
        }
      ]
    },
    {
      "cell_type": "code",
      "source": [],
      "metadata": {
        "id": "AJ8TgNQvjvBv"
      },
      "execution_count": 8,
      "outputs": []
    },
    {
      "cell_type": "code",
      "source": [],
      "metadata": {
        "id": "76O0wsfBj8oJ"
      },
      "execution_count": 8,
      "outputs": []
    }
  ]
}